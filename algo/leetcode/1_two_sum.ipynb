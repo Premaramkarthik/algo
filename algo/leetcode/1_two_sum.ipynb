{
 "cells": [
  {
   "cell_type": "markdown",
   "id": "a16f639a",
   "metadata": {},
   "source": [
    "#### https://leetcode.com/problems/two-sum/description/?envType=problem-list-v2&envId=hash-table"
   ]
  },
  {
   "cell_type": "code",
   "execution_count": null,
   "id": "8b7f70af",
   "metadata": {},
   "outputs": [],
   "source": [
    "def twoSum(nums, target):\n",
    "    seen = {}\n",
    "\n",
    "    for i in range(len(nums)):\n",
    "        diff = target - nums[i]\n",
    "\n",
    "        if diff in seen:\n",
    "            return [seen[diff], i]\n",
    "        else:\n",
    "            seen[nums[i]] = i"
   ]
  },
  {
   "cell_type": "code",
   "execution_count": 1,
   "id": "edfdde01",
   "metadata": {},
   "outputs": [],
   "source": [
    "def twoSum(nums, target):\n",
    "    for i in range(len(nums)):\n",
    "        for j in range(i +1 , len(nums)):\n",
    "            if nums[i] + nums[j] == target:\n",
    "                return [i,j]\n",
    "\n",
    "    return [] "
   ]
  },
  {
   "cell_type": "code",
   "execution_count": null,
   "id": "31b2a116",
   "metadata": {},
   "outputs": [],
   "source": []
  }
 ],
 "metadata": {
  "kernelspec": {
   "display_name": "G310",
   "language": "python",
   "name": "python3"
  },
  "language_info": {
   "codemirror_mode": {
    "name": "ipython",
    "version": 3
   },
   "file_extension": ".py",
   "mimetype": "text/x-python",
   "name": "python",
   "nbconvert_exporter": "python",
   "pygments_lexer": "ipython3",
   "version": "3.10.16"
  }
 },
 "nbformat": 4,
 "nbformat_minor": 5
}
