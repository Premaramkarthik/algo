{
 "cells": [
  {
   "cell_type": "markdown",
   "id": "2af0fe85",
   "metadata": {},
   "source": [
    "#### https://leetcode.com/problems/set-mismatch/description/"
   ]
  },
  {
   "cell_type": "code",
   "execution_count": 2,
   "id": "dc1600e9",
   "metadata": {},
   "outputs": [
    {
     "data": {
      "text/plain": [
       "(2, 3)"
      ]
     },
     "execution_count": 2,
     "metadata": {},
     "output_type": "execute_result"
    }
   ],
   "source": [
    "def findErrorNums( nums):\n",
    "    i = 0 \n",
    "    while i < len(nums):\n",
    "        correct = nums[i] - 1\n",
    "        if nums[i] != nums[correct]:\n",
    "            swap(nums, i, correct)\n",
    "        else:\n",
    "            i += 1\n",
    "    \n",
    "    for i in range(len(nums)):\n",
    "        if nums[i] != i + 1:\n",
    "            return nums[i], i + 1\n",
    "\n",
    "\n",
    "def swap(nums, first, second):\n",
    "    nums[first], nums[second] = nums[second], nums[first]\n",
    "\n",
    "\n",
    "num = [1,2,2,4]\n",
    "findErrorNums(num)"
   ]
  },
  {
   "cell_type": "code",
   "execution_count": null,
   "id": "5e2dcc13",
   "metadata": {},
   "outputs": [],
   "source": []
  }
 ],
 "metadata": {
  "kernelspec": {
   "display_name": "pt310",
   "language": "python",
   "name": "python3"
  },
  "language_info": {
   "codemirror_mode": {
    "name": "ipython",
    "version": 3
   },
   "file_extension": ".py",
   "mimetype": "text/x-python",
   "name": "python",
   "nbconvert_exporter": "python",
   "pygments_lexer": "ipython3",
   "version": "3.10.16"
  }
 },
 "nbformat": 4,
 "nbformat_minor": 5
}
