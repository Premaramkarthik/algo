{
 "cells": [
  {
   "cell_type": "markdown",
   "id": "3d3fca2e",
   "metadata": {},
   "source": [
    "#### https://leetcode.com/problems/group-anagrams/submissions/1394191325/?envType=problem-list-v2&envId=hash-table"
   ]
  },
  {
   "cell_type": "code",
   "execution_count": null,
   "id": "7cc31c5e",
   "metadata": {},
   "outputs": [],
   "source": [
    "def group(strs):\n",
    "    group = {}\n",
    "\n",
    "    for word in strs:\n",
    "        sorted_words = ''.join(sorted(word))\n",
    "\n",
    "        if sorted_words in group:\n",
    "            group[sorted_words].append(word)\n",
    "\n",
    "        else:\n",
    "            group[sorted_words] = [word]\n",
    "\n",
    "    return list(group.values())"
   ]
  },
  {
   "cell_type": "code",
   "execution_count": null,
   "id": "211bfdf9",
   "metadata": {},
   "outputs": [],
   "source": []
  }
 ],
 "metadata": {
  "kernelspec": {
   "display_name": "G310",
   "language": "python",
   "name": "python3"
  },
  "language_info": {
   "name": "python",
   "version": "3.10.16"
  }
 },
 "nbformat": 4,
 "nbformat_minor": 5
}
