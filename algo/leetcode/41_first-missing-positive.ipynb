{
 "cells": [
  {
   "cell_type": "markdown",
   "id": "897da22a",
   "metadata": {},
   "source": [
    "#### https://leetcode.com/problems/first-missing-positive/description/"
   ]
  },
  {
   "cell_type": "code",
   "execution_count": null,
   "id": "62cba0c3",
   "metadata": {},
   "outputs": [
    {
     "data": {
      "text/plain": [
       "3"
      ]
     },
     "execution_count": 3,
     "metadata": {},
     "output_type": "execute_result"
    }
   ],
   "source": [
    "def firstMissingPositive(nums):\n",
    "    i = 0 \n",
    "    while i < len(nums):\n",
    "        correct = nums[i] - 1\n",
    "        if nums[i] > 0 and nums[i] <=  len(nums) and nums[i] != nums[correct]:\n",
    "            swap(nums= nums, first = i,second = correct)\n",
    "        else:\n",
    "            i += 1\n",
    "    \n",
    "    for i in range(len(nums)):\n",
    "        if nums[i] != i + 1:\n",
    "            return i + 1\n",
    "    \n",
    "    return len(nums) + 1\n",
    "\n",
    "def swap(nums, first, second):\n",
    "        nums[first], nums[second] = nums[second], nums[first]\n",
    "\n",
    "\n",
    "nums = [1,2,0]\n",
    "firstMissingPositive(nums)\n"
   ]
  },
  {
   "cell_type": "code",
   "execution_count": 4,
   "id": "9d96bf5f",
   "metadata": {},
   "outputs": [
    {
     "data": {
      "text/plain": [
       "2"
      ]
     },
     "execution_count": 4,
     "metadata": {},
     "output_type": "execute_result"
    }
   ],
   "source": [
    "nums = [3,4,-1,1]\n",
    "firstMissingPositive(nums)"
   ]
  },
  {
   "cell_type": "code",
   "execution_count": null,
   "id": "d6af8a9b",
   "metadata": {},
   "outputs": [],
   "source": []
  }
 ],
 "metadata": {
  "kernelspec": {
   "display_name": "pt310",
   "language": "python",
   "name": "python3"
  },
  "language_info": {
   "codemirror_mode": {
    "name": "ipython",
    "version": 3
   },
   "file_extension": ".py",
   "mimetype": "text/x-python",
   "name": "python",
   "nbconvert_exporter": "python",
   "pygments_lexer": "ipython3",
   "version": "3.10.16"
  }
 },
 "nbformat": 4,
 "nbformat_minor": 5
}
