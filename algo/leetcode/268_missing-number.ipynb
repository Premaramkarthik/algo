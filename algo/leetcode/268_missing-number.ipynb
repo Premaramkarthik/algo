{
 "cells": [
  {
   "cell_type": "markdown",
   "id": "98c18c99",
   "metadata": {},
   "source": [
    "#### https://leetcode.com/problems/missing-number/description/"
   ]
  },
  {
   "cell_type": "code",
   "execution_count": 2,
   "id": "d067e213",
   "metadata": {},
   "outputs": [],
   "source": [
    "def missingNumber(nums):\n",
    "    \n",
    "    def swap(nums, first, second):\n",
    "        nums[first], nums[second] = nums[second], nums[first]\n",
    "\n",
    "    i = 0 \n",
    "    while i < len(nums):\n",
    "        if nums[i] < len(nums) and nums[i] != nums[nums[i]]:\n",
    "            swap(nums= nums, first= i,second= nums[i])\n",
    "        else:\n",
    "            i += 1\n",
    "    \n",
    "    for i in range(len(nums)):\n",
    "        if nums[i] != i:\n",
    "            return i\n",
    "    \n",
    "    return len(nums)\n",
    "\n"
   ]
  },
  {
   "cell_type": "code",
   "execution_count": 3,
   "id": "296ecc63",
   "metadata": {},
   "outputs": [
    {
     "data": {
      "text/plain": [
       "2"
      ]
     },
     "execution_count": 3,
     "metadata": {},
     "output_type": "execute_result"
    }
   ],
   "source": [
    "arr = [3,0,1]\n",
    "\n",
    "missingNumber(nums=arr)"
   ]
  },
  {
   "cell_type": "code",
   "execution_count": 13,
   "id": "0534c2d1",
   "metadata": {},
   "outputs": [
    {
     "data": {
      "text/plain": [
       "2"
      ]
     },
     "execution_count": 13,
     "metadata": {},
     "output_type": "execute_result"
    }
   ],
   "source": [
    "def missingNumber(nums):\n",
    "    num_dict  = {num : True for num in nums}\n",
    "\n",
    "    for i in range(len(nums) + 1):\n",
    "        if i not in num_dict:\n",
    "            return i \n",
    "\n",
    "arr = [3,0,1]\n",
    "\n",
    "missingNumber(nums=arr)"
   ]
  },
  {
   "cell_type": "code",
   "execution_count": null,
   "id": "7f5fbb64",
   "metadata": {},
   "outputs": [],
   "source": []
  }
 ],
 "metadata": {
  "kernelspec": {
   "display_name": "pt310",
   "language": "python",
   "name": "python3"
  },
  "language_info": {
   "codemirror_mode": {
    "name": "ipython",
    "version": 3
   },
   "file_extension": ".py",
   "mimetype": "text/x-python",
   "name": "python",
   "nbconvert_exporter": "python",
   "pygments_lexer": "ipython3",
   "version": "3.10.16"
  }
 },
 "nbformat": 4,
 "nbformat_minor": 5
}
