{
 "cells": [
  {
   "cell_type": "markdown",
   "id": "b4977485",
   "metadata": {},
   "source": [
    "##### https://leetcode.com/problems/contains-duplicate/description/?envType=problem-list-v2&envId=hash-table"
   ]
  },
  {
   "cell_type": "code",
   "execution_count": 4,
   "id": "b6018ade",
   "metadata": {},
   "outputs": [
    {
     "data": {
      "text/plain": [
       "False"
      ]
     },
     "execution_count": 4,
     "metadata": {},
     "output_type": "execute_result"
    }
   ],
   "source": [
    "def containsDuplicate(nums):\n",
    "    for i in range(len(nums)):\n",
    "        for j in range(i  + 1, len(nums)):\n",
    "            if nums[i] == nums[j]:\n",
    "                return True\n",
    "    return False\n",
    "\n",
    "\n",
    "\n",
    "containsDuplicate(nums = [1,2,3])"
   ]
  },
  {
   "cell_type": "code",
   "execution_count": 8,
   "id": "b18f3048",
   "metadata": {},
   "outputs": [
    {
     "data": {
      "text/plain": [
       "True"
      ]
     },
     "execution_count": 8,
     "metadata": {},
     "output_type": "execute_result"
    }
   ],
   "source": [
    "def containsDuplicate(nums):\n",
    "    \n",
    "    map = {}\n",
    "\n",
    "    for num in nums:\n",
    "        if num not in map:\n",
    "           map[num] = 1\n",
    "        else:\n",
    "           map[num] += 1 \n",
    "    \n",
    "    return any( v > 1 for v in map.values())  \n",
    "\n",
    "containsDuplicate(nums = [1,2,3,1])"
   ]
  },
  {
   "cell_type": "code",
   "execution_count": 10,
   "id": "9f37b4f2",
   "metadata": {},
   "outputs": [
    {
     "data": {
      "text/plain": [
       "False"
      ]
     },
     "execution_count": 10,
     "metadata": {},
     "output_type": "execute_result"
    }
   ],
   "source": [
    "def containsDuplicate(nums):\n",
    "    map = {}\n",
    "\n",
    "    for num in nums:\n",
    "        if num in map:\n",
    "            return True\n",
    "        else:\n",
    "            map[num] = 1\n",
    "    return False\n",
    "\n",
    "containsDuplicate(nums = [1,2,3,])"
   ]
  },
  {
   "cell_type": "code",
   "execution_count": null,
   "id": "a980af69",
   "metadata": {},
   "outputs": [],
   "source": []
  }
 ],
 "metadata": {
  "kernelspec": {
   "display_name": "G310",
   "language": "python",
   "name": "python3"
  },
  "language_info": {
   "codemirror_mode": {
    "name": "ipython",
    "version": 3
   },
   "file_extension": ".py",
   "mimetype": "text/x-python",
   "name": "python",
   "nbconvert_exporter": "python",
   "pygments_lexer": "ipython3",
   "version": "3.10.16"
  }
 },
 "nbformat": 4,
 "nbformat_minor": 5
}
