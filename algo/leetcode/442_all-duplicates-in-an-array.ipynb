{
 "cells": [
  {
   "cell_type": "markdown",
   "id": "5ee26746",
   "metadata": {},
   "source": [
    "#### https://leetcode.com/problems/find-all-duplicates-in-an-array/description/"
   ]
  },
  {
   "cell_type": "code",
   "execution_count": 10,
   "id": "30da6893",
   "metadata": {},
   "outputs": [
    {
     "data": {
      "text/plain": [
       "[1]"
      ]
     },
     "execution_count": 10,
     "metadata": {},
     "output_type": "execute_result"
    }
   ],
   "source": [
    "def findDuplicates( nums):\n",
    "    \"\"\"\n",
    "    :type nums: List[int]\n",
    "    :rtype: List[int]\n",
    "    \"\"\"\n",
    "    i = 0 \n",
    "    while i < len(nums):\n",
    "        correct = nums[i] - 1\n",
    "        if nums[i] != nums[correct]:\n",
    "            swap(nums, i, correct)\n",
    "        else:\n",
    "            i += 1 \n",
    "    \n",
    "    ans = []\n",
    "    for i in range(len(nums)):\n",
    "        if nums[i] != i + 1:\n",
    "            ans.append(nums[i])\n",
    "    return ans\n",
    "\n",
    "def swap(nums, first, second):\n",
    "    nums[first], nums[second] = nums[second], nums[first]\n",
    "\n",
    "\n",
    "nums = [1,1,2]\n",
    "findDuplicates(nums)"
   ]
  },
  {
   "cell_type": "code",
   "execution_count": null,
   "id": "f4b0249a",
   "metadata": {},
   "outputs": [],
   "source": []
  }
 ],
 "metadata": {
  "kernelspec": {
   "display_name": "pt310",
   "language": "python",
   "name": "python3"
  },
  "language_info": {
   "codemirror_mode": {
    "name": "ipython",
    "version": 3
   },
   "file_extension": ".py",
   "mimetype": "text/x-python",
   "name": "python",
   "nbconvert_exporter": "python",
   "pygments_lexer": "ipython3",
   "version": "3.10.16"
  }
 },
 "nbformat": 4,
 "nbformat_minor": 5
}
