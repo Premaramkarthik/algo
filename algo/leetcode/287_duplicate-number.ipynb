{
 "cells": [
  {
   "cell_type": "markdown",
   "id": "e19632c5",
   "metadata": {},
   "source": [
    "#### https://leetcode.com/problems/find-the-duplicate-number/description/"
   ]
  },
  {
   "cell_type": "code",
   "execution_count": null,
   "id": "2c0ba55a",
   "metadata": {},
   "outputs": [],
   "source": [
    "def findDuplicate(nums):\n",
    "\n",
    "    i = 0\n",
    "    while i < len(nums):\n",
    "\n",
    "        if nums[i] != i + 1:\n",
    "            correct = nums[i] - 1\n",
    "\n",
    "            if nums[i] != nums[correct]:\n",
    "                swap(nums, i, correct)\n",
    "            else:\n",
    "                return nums[i]\n",
    "        else:\n",
    "            x += 1\n",
    "    return -1\n",
    "\n",
    "\n",
    "def swap(nums, first, second):\n",
    "    nums[first], nums[second] = nums[second], nums[first]\n",
    "\n"
   ]
  }
 ],
 "metadata": {
  "language_info": {
   "name": "python"
  }
 },
 "nbformat": 4,
 "nbformat_minor": 5
}
