{
 "cells": [
  {
   "cell_type": "code",
   "execution_count": 3,
   "id": "5f463d63",
   "metadata": {},
   "outputs": [
    {
     "data": {
      "text/plain": [
       "3"
      ]
     },
     "execution_count": 3,
     "metadata": {},
     "output_type": "execute_result"
    }
   ],
   "source": [
    "def majorityElement(nums):\n",
    "\n",
    "    map = {}\n",
    "\n",
    "    for num in nums:\n",
    "        map[num] = map.get(num, 0) + 1\n",
    "\n",
    "    max_v = 0 \n",
    "    for k, v in map.items():\n",
    "        if v > max_v:\n",
    "            max_v = v\n",
    "            majority_Element = k\n",
    "    return majority_Element\n",
    "\n",
    "\n",
    "majorityElement(nums = [3,2,3])\n"
   ]
  },
  {
   "cell_type": "code",
   "execution_count": 7,
   "id": "54918722",
   "metadata": {},
   "outputs": [
    {
     "data": {
      "text/plain": [
       "3"
      ]
     },
     "execution_count": 7,
     "metadata": {},
     "output_type": "execute_result"
    }
   ],
   "source": [
    "def majorityElement(nums):\n",
    "\n",
    "    map = {}\n",
    "\n",
    "    for num in nums:\n",
    "        if num not in map:\n",
    "            map[num] =  1\n",
    "        else:\n",
    "            map[num] += num\n",
    "\n",
    "\n",
    "    max_v = 0 \n",
    "    for k, v in map.items():\n",
    "        if v > max_v:\n",
    "            max_v = v\n",
    "            majority_Element = k\n",
    "    return majority_Element\n",
    "\n",
    "\n",
    "majorityElement(nums = [4,3,2,3])\n"
   ]
  },
  {
   "cell_type": "code",
   "execution_count": null,
   "id": "e3fbe523",
   "metadata": {},
   "outputs": [],
   "source": []
  }
 ],
 "metadata": {
  "kernelspec": {
   "display_name": "G310",
   "language": "python",
   "name": "python3"
  },
  "language_info": {
   "codemirror_mode": {
    "name": "ipython",
    "version": 3
   },
   "file_extension": ".py",
   "mimetype": "text/x-python",
   "name": "python",
   "nbconvert_exporter": "python",
   "pygments_lexer": "ipython3",
   "version": "3.10.16"
  }
 },
 "nbformat": 4,
 "nbformat_minor": 5
}
