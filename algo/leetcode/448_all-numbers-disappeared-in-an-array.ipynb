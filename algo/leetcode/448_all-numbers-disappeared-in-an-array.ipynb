{
 "cells": [
  {
   "cell_type": "markdown",
   "id": "69ceb466",
   "metadata": {},
   "source": [
    "##### https://leetcode.com/problems/find-all-numbers-disappeared-in-an-array/description/"
   ]
  },
  {
   "cell_type": "code",
   "execution_count": 5,
   "id": "41cbced1",
   "metadata": {},
   "outputs": [
    {
     "data": {
      "text/plain": [
       "[5, 6]"
      ]
     },
     "execution_count": 5,
     "metadata": {},
     "output_type": "execute_result"
    }
   ],
   "source": [
    "def findDisappearedNumbers(nums):\n",
    "    i =0\n",
    "    while i < len(nums):\n",
    "        correct = nums[i] - 1\n",
    "\n",
    "        if nums[i] != nums[correct]:\n",
    "            swap(nums, i, correct)\n",
    "        else:\n",
    "            i += 1\n",
    "\n",
    "    ans = []\n",
    "\n",
    "    for i in range(len(nums)):\n",
    "        if nums[i] !=  i + 1:\n",
    "            ans.append(i + 1)\n",
    "\n",
    "    return ans\n",
    "    \n",
    "\n",
    "def swap(nums, first, second):\n",
    "    nums[first], nums[second] = nums[second], nums[first]\n",
    "\n",
    "\n",
    "nums = [4,3,2,7,8,2,3,1]\n",
    "findDisappearedNumbers(nums)\n"
   ]
  },
  {
   "cell_type": "code",
   "execution_count": 6,
   "id": "1a3a5825",
   "metadata": {},
   "outputs": [
    {
     "data": {
      "text/plain": [
       "[5, 6]"
      ]
     },
     "execution_count": 6,
     "metadata": {},
     "output_type": "execute_result"
    }
   ],
   "source": [
    "def findDisappearedNumbers(nums):\n",
    "    res = []\n",
    "\n",
    "    num_set = set(nums)\n",
    "\n",
    "    for i in range(1, len(nums) + 1):\n",
    "        if i not in num_set:\n",
    "            res.append(i)\n",
    "\n",
    "    return res\n",
    "\n",
    "\n",
    "nums = [4,3,2,7,8,2,3,1]\n",
    "findDisappearedNumbers(nums)\n",
    "\n"
   ]
  },
  {
   "cell_type": "code",
   "execution_count": 11,
   "id": "5396d295",
   "metadata": {},
   "outputs": [
    {
     "data": {
      "text/plain": [
       "[5, 6]"
      ]
     },
     "execution_count": 11,
     "metadata": {},
     "output_type": "execute_result"
    }
   ],
   "source": [
    "def findDisappearedNumbers(nums):\n",
    "    \"\"\"\n",
    "    :type nums: List[int]\n",
    "    :rtype: List[int]\n",
    "    \"\"\"\n",
    "\n",
    "    arr =[] \n",
    "    hashtable = dict.fromkeys(nums, -1) \n",
    "\n",
    "    for j in range(1,len(nums) + 1):\n",
    "        if hashtable.get(j) == None:\n",
    "            arr.append(j)\n",
    "    return arr\n",
    "\n",
    "nums = [4,3,2,7,8,2,3,1]\n",
    "findDisappearedNumbers(nums)\n",
    "\n"
   ]
  },
  {
   "cell_type": "code",
   "execution_count": 13,
   "id": "0c69c7c0",
   "metadata": {},
   "outputs": [
    {
     "data": {
      "text/plain": [
       "[2]"
      ]
     },
     "execution_count": 13,
     "metadata": {},
     "output_type": "execute_result"
    }
   ],
   "source": [
    "def findDisappearedNumbers(nums):\n",
    "    \"\"\"\n",
    "    :type nums: List[int]\n",
    "    :rtype: List[int]\n",
    "    \"\"\"\n",
    "\n",
    "    arr =[] \n",
    "    hashtable = {}\n",
    "\n",
    "    for i in nums:\n",
    "        hashtable[i] = hashtable.get(i, -1) \n",
    "\n",
    "    for j in range(1,len(nums) + 1):\n",
    "        if hashtable.get(j) == None:\n",
    "            arr.append(j)\n",
    "    return arr\n",
    "\n",
    "nums = [1,1]\n",
    "findDisappearedNumbers(nums)\n",
    "\n"
   ]
  },
  {
   "cell_type": "code",
   "execution_count": null,
   "id": "7b358387",
   "metadata": {},
   "outputs": [],
   "source": []
  }
 ],
 "metadata": {
  "kernelspec": {
   "display_name": "pt310",
   "language": "python",
   "name": "python3"
  },
  "language_info": {
   "codemirror_mode": {
    "name": "ipython",
    "version": 3
   },
   "file_extension": ".py",
   "mimetype": "text/x-python",
   "name": "python",
   "nbconvert_exporter": "python",
   "pygments_lexer": "ipython3",
   "version": "3.10.16"
  }
 },
 "nbformat": 4,
 "nbformat_minor": 5
}
