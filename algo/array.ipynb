{
 "cells": [
  {
   "cell_type": "code",
   "execution_count": 1,
   "id": "20501677",
   "metadata": {},
   "outputs": [
    {
     "data": {
      "text/plain": [
       "79"
      ]
     },
     "execution_count": 1,
     "metadata": {},
     "output_type": "execute_result"
    }
   ],
   "source": [
    "def sum_of_array(arr):\n",
    "    sum = 0\n",
    "    for i in range(len(arr)):\n",
    "        sum += arr[i]\n",
    "    return sum\n",
    "\n",
    "arr = [3,9,7,8,12,6,15,5,4,10]\n",
    "sum_of_array(arr)\n"
   ]
  },
  {
   "cell_type": "code",
   "execution_count": 4,
   "id": "fa5e8520",
   "metadata": {},
   "outputs": [
    {
     "data": {
      "text/plain": [
       "8"
      ]
     },
     "execution_count": 4,
     "metadata": {},
     "output_type": "execute_result"
    }
   ],
   "source": [
    "def find_the_element(arr, target):\n",
    "\n",
    "    for i in range(len(arr)):\n",
    "        if arr[i] == target:\n",
    "            return i\n",
    "        \n",
    "    return None\n",
    "\n",
    "arr = [3,9,7,8,12,6,15,5,4,10]\n",
    "find_the_element(arr, target= 4)\n"
   ]
  },
  {
   "cell_type": "code",
   "execution_count": 2,
   "id": "cfb9abb6",
   "metadata": {},
   "outputs": [
    {
     "data": {
      "text/plain": [
       "-4"
      ]
     },
     "execution_count": 2,
     "metadata": {},
     "output_type": "execute_result"
    }
   ],
   "source": [
    "def find_the_min_element_in_the_range(arr, start, end):\n",
    "    min = arr[0] \n",
    "    for index in range(start, end):\n",
    "        if arr[index] < min:\n",
    "            min = arr[index]\n",
    "    return min\n",
    "\n",
    "arr = [-4,2,3,4,-1,6,6,0]\n",
    "find_the_min_element_in_the_range(arr=arr, start = 4, end = 7)"
   ]
  },
  {
   "cell_type": "code",
   "execution_count": 6,
   "id": "9d7d4c38",
   "metadata": {},
   "outputs": [
    {
     "data": {
      "text/plain": [
       "10"
      ]
     },
     "execution_count": 6,
     "metadata": {},
     "output_type": "execute_result"
    }
   ],
   "source": [
    "def find_the_max_element(arr):\n",
    "    max = 0\n",
    "\n",
    "    for i in range(len(arr)):\n",
    "        if arr[i] > max:\n",
    "            max = arr[i]\n",
    "    return max\n",
    "\n",
    "arr = [-4,2,3,4,-1,6,10,0]\n",
    "find_the_max_element(arr)"
   ]
  },
  {
   "cell_type": "code",
   "execution_count": 11,
   "id": "7ba64fde",
   "metadata": {},
   "outputs": [
    {
     "data": {
      "text/plain": [
       "6"
      ]
     },
     "execution_count": 11,
     "metadata": {},
     "output_type": "execute_result"
    }
   ],
   "source": [
    "arr = [-4, 2, 3, 4, -1, 6, 10, 0]\n",
    "\n",
    "\n",
    "\n",
    "def find_secound_element(arr):\n",
    "    max1 = float('-inf')\n",
    "\n",
    "    max2 = float('-inf')\n",
    "\n",
    "    for num in range(len(arr)):\n",
    "        if arr[num] > max1:\n",
    "            max2 = max1\n",
    "            max1 = arr[num]\n",
    "\n",
    "        elif arr[num] > max2 and arr[num] != max1:\n",
    "            max2 = arr[num]\n",
    "    return max2\n",
    "\n",
    "\n",
    "find_secound_element(arr)"
   ]
  },
  {
   "cell_type": "code",
   "execution_count": null,
   "id": "7c408ff4",
   "metadata": {},
   "outputs": [],
   "source": []
  },
  {
   "cell_type": "code",
   "execution_count": 23,
   "id": "03d6058c",
   "metadata": {},
   "outputs": [],
   "source": [
    "def swap(arr, first, second):\n",
    "    arr[first], arr[second] = arr[second], arr[first]\n",
    "\n",
    "\n",
    "\n",
    "def sort(arr):\n",
    "\n",
    "    i =0 \n",
    "    while i < len(arr):\n",
    "        correct = arr[i - 1]\n",
    "\n",
    "        if arr[i] != arr[correct]:\n",
    "            swap(arr, i, correct)\n",
    "        else:\n",
    "            i += 1"
   ]
  },
  {
   "cell_type": "code",
   "execution_count": 18,
   "id": "1564cf6f",
   "metadata": {},
   "outputs": [
    {
     "data": {
      "text/plain": [
       "(1, 1)"
      ]
     },
     "execution_count": 18,
     "metadata": {},
     "output_type": "execute_result"
    }
   ],
   "source": [
    "a = [\n",
    "    [1, 2, 3],\n",
    "    [4, 5, 6],\n",
    "    [7, 8, 9]\n",
    "]\n",
    "\n",
    "\n",
    "def find_the_element_in_2d(arr,target):\n",
    "\n",
    "    for i in range(len(arr)):\n",
    "        for j in range(len(arr[i])):\n",
    "            if arr[i][j] == target:\n",
    "                return i,j\n",
    "            \n",
    "    return None\n",
    "\n",
    "find_the_element_in_2d(arr = a, target= 5)\n"
   ]
  },
  {
   "cell_type": "code",
   "execution_count": 20,
   "id": "6f834326",
   "metadata": {},
   "outputs": [
    {
     "data": {
      "text/plain": [
       "(1, 1)"
      ]
     },
     "execution_count": 20,
     "metadata": {},
     "output_type": "execute_result"
    }
   ],
   "source": [
    "a = [\n",
    "    [1, 2, 3],\n",
    "    [4, 5, 6],\n",
    "    [7, 8, 9]\n",
    "]\n",
    "\n",
    "\n",
    "def find_the_max_in_2d(arr,target):\n",
    "\n",
    "    max = float('-inf')\n",
    "\n",
    "    for i in range(len(arr)):\n",
    "        for j in range(len(arr[i])):\n",
    "            if arr[i][j] > max:\n",
    "                max = arr[i][j]\n",
    "            \n",
    "    return max\n",
    "\n",
    "find_the_element_in_2d(arr = a, target= 5)\n"
   ]
  },
  {
   "cell_type": "code",
   "execution_count": null,
   "id": "1888d381",
   "metadata": {},
   "outputs": [
    {
     "data": {
      "text/plain": [
       "2"
      ]
     },
     "execution_count": 24,
     "metadata": {},
     "output_type": "execute_result"
    }
   ],
   "source": [
    "def findNumbers(nums):\n",
    "    count = 0 \n",
    "\n",
    "    for i in nums:\n",
    "        if len(str(i)) % 2 == 0:\n",
    "            count += 1\n",
    "    return count\n",
    "\n",
    "arr = [12,345,2,6,7896]\n",
    "\n",
    "findNumbers(nums= arr)\n",
    "        "
   ]
  },
  {
   "cell_type": "code",
   "execution_count": 32,
   "id": "ac5afba6",
   "metadata": {},
   "outputs": [
    {
     "data": {
      "text/plain": [
       "2"
      ]
     },
     "execution_count": 32,
     "metadata": {},
     "output_type": "execute_result"
    }
   ],
   "source": [
    "def findNumbers(nums):\n",
    "    count = 0\n",
    "    for num in nums:\n",
    "        if even(num):\n",
    "            count += 1\n",
    "    return count\n",
    "\n",
    "def even(num):\n",
    "    numofdigits = digits(num)\n",
    "    # if numofdigits % 2 == 0:\n",
    "    #     return True\n",
    "    # return False\n",
    "\n",
    "    return numofdigits % 2 == 0\n",
    "\n",
    "\n",
    "def digits(num):\n",
    "    count = 0\n",
    "    while num > 0:\n",
    "        num = num // 10 \n",
    "        count += 1\n",
    "\n",
    "    return count\n",
    "\n",
    "arr = [12,345,2,6,7896]\n",
    "\n",
    "findNumbers(nums= arr)\n",
    "\n"
   ]
  },
  {
   "cell_type": "code",
   "execution_count": null,
   "id": "8d352aaa",
   "metadata": {},
   "outputs": [],
   "source": [
    "def maximumWealth(accounts):\n",
    "\n",
    "    ans = float('-inf')\n",
    "\n",
    "    for person in range(len(accounts)):\n",
    "        sum_wealth = 0\n",
    "        for account in range(len(accounts[person])):\n",
    "            sum_wealth = accounts[person][account]\n",
    "\n",
    "        if sum_wealth > ans:\n",
    "            ans = sum_wealth\n",
    "\n",
    "    return ans\n",
    "\n",
    "\n",
    "\n",
    "class Solution:\n",
    "    def maximumWealth(self, accounts):\n",
    "        ans = float('-inf')  \n",
    "        for person in range(len(accounts)):\n",
    "\n",
    "            sum_wealth = 0\n",
    "            for account in range(len(accounts[person])):\n",
    "                sum_wealth += accounts[person][account]\n",
    "\n",
    "            if sum_wealth > ans:\n",
    "                ans = sum_wealth\n",
    "        \n",
    "        return ans"
   ]
  }
 ],
 "metadata": {
  "kernelspec": {
   "display_name": "G310",
   "language": "python",
   "name": "python3"
  },
  "language_info": {
   "codemirror_mode": {
    "name": "ipython",
    "version": 3
   },
   "file_extension": ".py",
   "mimetype": "text/x-python",
   "name": "python",
   "nbconvert_exporter": "python",
   "pygments_lexer": "ipython3",
   "version": "3.10.16"
  }
 },
 "nbformat": 4,
 "nbformat_minor": 5
}
