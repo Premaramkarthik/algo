{
 "cells": [
  {
   "cell_type": "code",
   "execution_count": 1,
   "id": "455bba54",
   "metadata": {},
   "outputs": [
    {
     "data": {
      "text/plain": [
       "4"
      ]
     },
     "execution_count": 1,
     "metadata": {},
     "output_type": "execute_result"
    }
   ],
   "source": [
    "def serach_in_the_range(arr,target, start, end):\n",
    "    if len(arr) == 0:\n",
    "        return -1\n",
    "    \n",
    "    for index in range(start, end):\n",
    "        if arr[index] == target:\n",
    "            return index\n",
    "    \n",
    "\n",
    "arr = [1,2,3,4,5,6,6,7]\n",
    "serach_in_the_range(arr= arr, target= 5,start= 4, end= 5)\n"
   ]
  },
  {
   "cell_type": "code",
   "execution_count": 2,
   "id": "2bcbf2a8",
   "metadata": {},
   "outputs": [],
   "source": [
    "def containdup(nums):\n",
    "\n",
    "    for i in range(len(nums)):\n",
    "        for j in range(i + 1, len(nums)):\n",
    "            if nums[i] == nums[j]:\n",
    "                return True\n",
    "    return False "
   ]
  },
  {
   "cell_type": "code",
   "execution_count": 6,
   "id": "3a356064",
   "metadata": {},
   "outputs": [
    {
     "data": {
      "text/plain": [
       "-3"
      ]
     },
     "execution_count": 6,
     "metadata": {},
     "output_type": "execute_result"
    }
   ],
   "source": [
    "def find_the_min_element(arr):\n",
    "    min = arr[0] \n",
    "    for index in range(len(arr)):\n",
    "        if arr[index] < min:\n",
    "            min = arr[index]\n",
    "    return min\n",
    "\n",
    "arr = [1,2,3,4,-3,6,6,0]\n",
    "find_the_min_element(arr=arr)"
   ]
  },
  {
   "cell_type": "code",
   "execution_count": 12,
   "id": "8e11e7bd",
   "metadata": {},
   "outputs": [
    {
     "data": {
      "text/plain": [
       "-4"
      ]
     },
     "execution_count": 12,
     "metadata": {},
     "output_type": "execute_result"
    }
   ],
   "source": [
    "def find_the_min_element_in_the_range(arr, start, end):\n",
    "    min = arr[start] \n",
    "    for index in range(start, end):\n",
    "        if arr[index] < min:\n",
    "            min = arr[index]\n",
    "    return min\n",
    "\n",
    "arr = [-4,2,3,4,-1,6,6,0]\n",
    "find_the_min_element_in_the_range(arr=arr, start = 0, end = 7)"
   ]
  },
  {
   "cell_type": "code",
   "execution_count": 13,
   "id": "6552bb12",
   "metadata": {},
   "outputs": [],
   "source": [
    "def max_value(arr):\n",
    "\n",
    "    max = arr[0]\n",
    "\n",
    "    for i in range(len(arr)):\n",
    "        if arr[i] > max:\n",
    "            max = arr[i]\n",
    "    return max"
   ]
  },
  {
   "cell_type": "code",
   "execution_count": null,
   "id": "763ff925",
   "metadata": {},
   "outputs": [],
   "source": []
  }
 ],
 "metadata": {
  "kernelspec": {
   "display_name": "G310",
   "language": "python",
   "name": "python3"
  },
  "language_info": {
   "codemirror_mode": {
    "name": "ipython",
    "version": 3
   },
   "file_extension": ".py",
   "mimetype": "text/x-python",
   "name": "python",
   "nbconvert_exporter": "python",
   "pygments_lexer": "ipython3",
   "version": "3.10.16"
  }
 },
 "nbformat": 4,
 "nbformat_minor": 5
}
