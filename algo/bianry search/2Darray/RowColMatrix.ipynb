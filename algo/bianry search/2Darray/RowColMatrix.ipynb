{
 "cells": [
  {
   "cell_type": "code",
   "execution_count": 15,
   "metadata": {},
   "outputs": [
    {
     "data": {
      "text/plain": [
       "(1, 2)"
      ]
     },
     "execution_count": 15,
     "metadata": {},
     "output_type": "execute_result"
    }
   ],
   "source": [
    "a = [\n",
    "    [1, 2, 3],\n",
    "    [4, 5, 6],\n",
    "    [7, 8, 9]\n",
    "]\n",
    "\n",
    "\n",
    "def find_the_element(nums, target):\n",
    "    for i in range(len(nums)):\n",
    "        for j in range(len(nums[i])):\n",
    "            if a[i][j] == target:\n",
    "                return i,j\n",
    "    return None     \n",
    "\n",
    "\n",
    "find_the_element(nums= a, target= 6)\n",
    "\n"
   ]
  },
  {
   "cell_type": "code",
   "execution_count": 1,
   "metadata": {},
   "outputs": [
    {
     "name": "stdout",
     "output_type": "stream",
     "text": [
      "1 1\n"
     ]
    }
   ],
   "source": [
    "a = [\n",
    "    [1, 2, 3],\n",
    "    [4, 5, 6],\n",
    "    [7, 8, 9]\n",
    "]\n",
    "target = 5\n",
    "for i in range(len(a)):\n",
    "    for j in range(len(a[i])):\n",
    "        if a[i][j] == target:\n",
    "            print(i,j)"
   ]
  },
  {
   "cell_type": "code",
   "execution_count": 3,
   "metadata": {},
   "outputs": [],
   "source": [
    "def search(matrix,target):\n",
    "    r = 0 \n",
    "    c = len(matrix) - 1\n",
    "    \n",
    "    while r < len(matrix) and c >= 0:\n",
    "        if matrix[r][c] == target:\n",
    "            return r,c\n",
    "        if matrix[r][c] < target:\n",
    "            r+=1\n",
    "        else:\n",
    "            c-=1\n",
    "    return -1,-1"
   ]
  },
  {
   "cell_type": "code",
   "execution_count": 4,
   "metadata": {},
   "outputs": [
    {
     "data": {
      "text/plain": [
       "(2, 2)"
      ]
     },
     "execution_count": 4,
     "metadata": {},
     "output_type": "execute_result"
    }
   ],
   "source": [
    "search(matrix = [\n",
    "    [1, 4, 7, 11],\n",
    "    [2, 5, 8, 12],\n",
    "    [3, 6, 9, 16],\n",
    "    [10, 13, 14, 17]\n",
    "],\n",
    "target = 9\n",
    ")"
   ]
  },
  {
   "cell_type": "code",
   "execution_count": 7,
   "metadata": {},
   "outputs": [
    {
     "data": {
      "text/plain": [
       "(2, 2)"
      ]
     },
     "execution_count": 7,
     "metadata": {},
     "output_type": "execute_result"
    }
   ],
   "source": [
    "search(matrix = [\n",
    "    [10,20,30,40,],\n",
    "    [15,25,35,45],\n",
    "    [28,29,37,49],\n",
    "    [33,34,38,50]\n",
    "],\n",
    "target= 37)"
   ]
  },
  {
   "cell_type": "code",
   "execution_count": 15,
   "metadata": {},
   "outputs": [],
   "source": [
    "def binarySearch(matrix, row, cStart, cEnd, target):\n",
    "    while cStart <= cEnd:\n",
    "        mid = cStart + (cEnd - cStart) // 2\n",
    "        \n",
    "        if matrix[row][mid] == target:\n",
    "            return row, mid\n",
    "\n",
    "        if matrix[row][mid] < target:\n",
    "            cStart = mid + 1\n",
    "        else:\n",
    "            cEnd = mid - 1 \n",
    "\n",
    "    return -1, -1\n",
    "\n",
    "def search(matrix, target):\n",
    "    rows = len(matrix)\n",
    "    cols = len(matrix[0]) if rows > 0 else 0  # Handle empty matrix edge case\n",
    "    \n",
    "    if rows == 0 or cols == 0:\n",
    "        return -1, -1\n",
    "    \n",
    "    if rows == 1:\n",
    "        return binarySearch(matrix, row=0, cStart=0, cEnd=cols-1, target=target)\n",
    "        \n",
    "    # Run the loop until 2 rows remain\n",
    "    rStart = 0\n",
    "    rEnd = rows - 1\n",
    "    cMid = cols // 2  # Use integer division\n",
    "\n",
    "    while rStart < (rEnd - 1):  # Loop while there are more than 2 rows\n",
    "        mid = rStart + (rEnd - rStart) // 2\n",
    "        if matrix[mid][cMid] == target:\n",
    "            return mid, cMid\n",
    "        \n",
    "        if matrix[mid][cMid] < target:\n",
    "            rStart = mid\n",
    "        else:\n",
    "            rEnd = mid\n",
    "            \n",
    "    # Now we have 2 rows, check whether the target is in the middle column of these rows\n",
    "    if matrix[rStart][cMid] == target:\n",
    "        return rStart, cMid\n",
    "    \n",
    "    if matrix[rStart + 1][cMid] == target:\n",
    "        return rStart + 1, cMid    \n",
    "    \n",
    "    # Search in 1st half (left side of rStart)\n",
    "    if target <= matrix[rStart][cMid - 1]:\n",
    "        return binarySearch(matrix, row=rStart, cStart=0, cEnd=cMid - 1, target=target)\n",
    "    \n",
    "    # Search in 2nd half (right side of rStart)\n",
    "    if target >= matrix[rStart][cMid + 1] and target <= matrix[rStart][cols - 1]:\n",
    "        return binarySearch(matrix, row=rStart, cStart=cMid + 1, cEnd=cols - 1, target=target)\n",
    "    \n",
    "    # Search in 3rd half (left side of rStart + 1)\n",
    "    if target <= matrix[rStart + 1][cMid - 1]:\n",
    "        return binarySearch(matrix, row=rStart + 1, cStart=0, cEnd=cMid - 1, target=target)\n",
    "    \n",
    "    # Search in 4th half (right side of rStart + 1)\n",
    "    return binarySearch(matrix, row=rStart + 1, cStart=cMid + 1, cEnd=cols - 1, target=target)\n"
   ]
  },
  {
   "cell_type": "code",
   "execution_count": 18,
   "metadata": {},
   "outputs": [
    {
     "data": {
      "text/plain": [
       "(-1, -1)"
      ]
     },
     "execution_count": 18,
     "metadata": {},
     "output_type": "execute_result"
    }
   ],
   "source": [
    "arr= [\n",
    "    [1,2,3],\n",
    "    [4,5,6],\n",
    "    [7,8,9]\n",
    "]\n",
    "\n",
    "search(arr,target=67)"
   ]
  },
  {
   "cell_type": "code",
   "execution_count": null,
   "metadata": {},
   "outputs": [],
   "source": []
  }
 ],
 "metadata": {
  "kernelspec": {
   "display_name": "G310",
   "language": "python",
   "name": "python3"
  },
  "language_info": {
   "codemirror_mode": {
    "name": "ipython",
    "version": 3
   },
   "file_extension": ".py",
   "mimetype": "text/x-python",
   "name": "python",
   "nbconvert_exporter": "python",
   "pygments_lexer": "ipython3",
   "version": "3.10.16"
  }
 },
 "nbformat": 4,
 "nbformat_minor": 2
}
