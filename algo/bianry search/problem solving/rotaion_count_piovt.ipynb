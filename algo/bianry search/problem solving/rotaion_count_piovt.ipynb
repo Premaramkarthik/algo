{
 "cells": [
  {
   "cell_type": "code",
   "execution_count": 8,
   "metadata": {},
   "outputs": [],
   "source": [
    "from typing import List\n",
    "\n",
    "def countRotation(arr: List[int]) -> int:\n",
    "    pivot = findPivot(arr)\n",
    "    return pivot + 1 if pivot != -1 else 0\n",
    "\n",
    "def findPivot(arr: List[int]) -> int:\n",
    "    start = 0\n",
    "    end = len(arr) - 1\n",
    "    \n",
    "    while start <= end:\n",
    "        mid = start + (end - start) // 2\n",
    "        \n",
    "        # 4 cases here\n",
    "        \n",
    "        # Case 1: If mid is the pivot\n",
    "        if mid < end and arr[mid] > arr[mid + 1]:\n",
    "            return mid\n",
    "        \n",
    "        # Case 2: If mid-1 is the pivot\n",
    "        if mid > start and arr[mid] < arr[mid - 1]:\n",
    "            return mid - 1\n",
    "        \n",
    "        # Case 3: If the left part is unsorted, pivot should be in the left part\n",
    "        if arr[mid] <= arr[start]:\n",
    "            end = mid - 1\n",
    "        else:\n",
    "            # Case 4: If the right part is unsorted, pivot should be in the right part\n",
    "            start = mid + 1\n",
    "            \n",
    "    return -1\n",
    "\n",
    "def findPivotWithDuplicates(arr: List[int]) -> int:\n",
    "    start = 0\n",
    "    end = len(arr) - 1\n",
    "    \n",
    "    while start <= end:\n",
    "        mid = start + (end - start) // 2\n",
    "        \n",
    "        # Case 1: If mid is the pivot\n",
    "        if mid < end and arr[mid] > arr[mid + 1]:\n",
    "            return mid\n",
    "        \n",
    "        # Case 2: If mid-1 is the pivot\n",
    "        if mid > start and arr[mid] < arr[mid - 1]:\n",
    "            return mid - 1\n",
    "        \n",
    "        # Case 3: If elements at start, mid, end are equal, skip duplicates\n",
    "        if arr[mid] == arr[start] and arr[mid] == arr[end]:\n",
    "            if arr[start] > arr[start + 1]:\n",
    "                return start\n",
    "            start += 1 \n",
    "            \n",
    "            if arr[end] < arr[end - 1]:\n",
    "                return end - 1\n",
    "            \n",
    "            end -= 1\n",
    "            \n",
    "        # Case 4: If the left part is sorted or has duplicates that don’t affect pivot, move right\n",
    "        elif arr[start] < arr[mid] or (arr[start] == arr[mid] and arr[mid] > arr[end]):\n",
    "            start = mid + 1\n",
    "        else:\n",
    "            end = mid - 1\n",
    "                \n",
    "    return -1   \n"
   ]
  },
  {
   "cell_type": "code",
   "execution_count": 9,
   "metadata": {},
   "outputs": [
    {
     "data": {
      "text/plain": [
       "4"
      ]
     },
     "execution_count": 9,
     "metadata": {},
     "output_type": "execute_result"
    }
   ],
   "source": [
    "arr = [4,5,6,7,0,1,2]\n",
    "ans = countRotation(arr)\n",
    "ans"
   ]
  },
  {
   "cell_type": "code",
   "execution_count": 10,
   "metadata": {},
   "outputs": [
    {
     "data": {
      "text/plain": [
       "0"
      ]
     },
     "execution_count": 10,
     "metadata": {},
     "output_type": "execute_result"
    }
   ],
   "source": [
    "arr = [0,1,2,4,5,6,7,]\n",
    "ans = countRotation(arr)\n",
    "ans"
   ]
  },
  {
   "cell_type": "code",
   "execution_count": 11,
   "metadata": {},
   "outputs": [
    {
     "data": {
      "text/plain": [
       "0"
      ]
     },
     "execution_count": 11,
     "metadata": {},
     "output_type": "execute_result"
    }
   ],
   "source": [
    "arr = []\n",
    "ans = countRotation(arr)\n",
    "ans"
   ]
  },
  {
   "cell_type": "code",
   "execution_count": null,
   "metadata": {},
   "outputs": [],
   "source": []
  }
 ],
 "metadata": {
  "kernelspec": {
   "display_name": "py310",
   "language": "python",
   "name": "python3"
  },
  "language_info": {
   "codemirror_mode": {
    "name": "ipython",
    "version": 3
   },
   "file_extension": ".py",
   "mimetype": "text/x-python",
   "name": "python",
   "nbconvert_exporter": "python",
   "pygments_lexer": "ipython3",
   "version": "3.10.13"
  }
 },
 "nbformat": 4,
 "nbformat_minor": 2
}
