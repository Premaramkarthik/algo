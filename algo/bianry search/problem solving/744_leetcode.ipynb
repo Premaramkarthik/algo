{
 "cells": [
  {
   "cell_type": "code",
   "execution_count": null,
   "metadata": {},
   "outputs": [],
   "source": [
    "class Solution(object):\n",
    "    def nextGreatestLetter(self, letters, target):\n",
    "\n",
    "        start = 0\n",
    "        end = len(letters) -1\n",
    "\n",
    "        if target < letters[0] or target > letters[-1]:\n",
    "            return letters[0]\n",
    " \n",
    "\n",
    "        while start <= end:\n",
    "         mid = start + (end - start) // 2\n",
    "\n",
    "         if target >= letters[mid]:\n",
    "            start = mid + 1\n",
    "         else:\n",
    "            end = mid - 1\n",
    "\n",
    "        return letters[start % len(letters)] \n",
    "        "
   ]
  }
 ],
 "metadata": {
  "kernelspec": {
   "display_name": "py310",
   "language": "python",
   "name": "python3"
  },
  "language_info": {
   "name": "python",
   "version": "3.10.13"
  }
 },
 "nbformat": 4,
 "nbformat_minor": 2
}
