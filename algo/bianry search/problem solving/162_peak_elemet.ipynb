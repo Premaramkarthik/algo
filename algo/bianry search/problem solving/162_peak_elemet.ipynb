{
 "cells": [
  {
   "cell_type": "code",
   "execution_count": null,
   "metadata": {},
   "outputs": [],
   "source": [
    "class Solution(object):\n",
    "    def findPeakElement(self, nums):\n",
    "        start = 0\n",
    "        end = len(nums) - 1\n",
    "    \n",
    "        while start < end:\n",
    "            mid = start + (end - start) // 2\n",
    "            if nums[mid] > nums[mid + 1]:\n",
    "                end = mid\n",
    "            else:\n",
    "                start = mid + 1\n",
    "       \n",
    "        return start\n",
    "        "
   ]
  }
 ],
 "metadata": {
  "language_info": {
   "name": "python"
  }
 },
 "nbformat": 4,
 "nbformat_minor": 2
}
