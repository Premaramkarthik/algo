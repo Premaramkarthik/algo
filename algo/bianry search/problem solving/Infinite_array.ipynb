{
 "cells": [
  {
   "cell_type": "markdown",
   "metadata": {},
   "source": [
    "Here’s the example walkthrough in markdown format:\n",
    "\n",
    "```markdown\n",
    "### Example Walkthrough:\n",
    "\n",
    "#### Problem:\n",
    "Imagine we are searching for a target `32` in an infinite sorted array that looks like this:\n",
    "\n",
    "```\n",
    "arr = [1, 3, 7, 9, 10, 15, 20, 25, 30, 32, 35, 40, …]\n",
    "```\n",
    "\n",
    "We do not know the size of the array. Our goal is to find the range where `32` lies and then perform a binary search within that range.\n",
    "\n",
    "\n",
    "#### Step-by-step Execution:\n",
    "\n",
    "##### 1. Initial Range:\n",
    "- `start = 0`, `end = 1`.\n",
    "- Check `arr[1] = 3`. Since `32 > 3`, we need to expand the range.\n",
    "\n",
    "##### 2. First Expansion:\n",
    "- New `start = end + 1 = 2`.\n",
    "- New `end = end + (end - start + 1) * 2 = 1 + (1 - 0 + 1) * 2 = 5`.\n",
    "- Now the range is `start = 2`, `end = 5`, which means we check `arr[2]` to `arr[5]`.\n",
    "- Check `arr[5] = 15`. Since `32 > 15`, we need to expand the range again.\n",
    "\n",
    "##### 3. Second Expansion:\n",
    "- New `start = end + 1 = 6`.\n",
    "- New `end = end + (end - start + 1) * 2 = 5 + (5 - 2 + 1) * 2 = 11`.\n",
    "- Now the range is `start = 6`, `end = 11`, which means we check `arr[6]` to `arr[11]`.\n",
    "- Check `arr[11] = 40`. Since `32 < 40`, we stop expanding the range.\n",
    "\n",
    "---\n",
    "\n",
    "#### Range Found:\n",
    "- Now we know that the target `32` lies between `arr[6]` and `arr[11]` (i.e., `20 <= target <= 40`).\n",
    "```\n",
    "\n",
    "This markdown format presents the example in a structured way using headings, code blocks, and bullet points."
   ]
  },
  {
   "cell_type": "code",
   "execution_count": 4,
   "metadata": {},
   "outputs": [],
   "source": [
    "def ans(arr, target):\n",
    "    # first find the range\n",
    "    # first start with a box of size 2\n",
    "    start = 0\n",
    "    end = 1\n",
    "    \n",
    "    while target > arr[end]:\n",
    "        temp = end + 1 # this is the newstart\n",
    "        # double the box value\n",
    "        # end = previous end + sizebox * 2\n",
    "        end = end + (end - start + 1) * 2\n",
    "        start  = temp\n",
    "    return binarySearch(arr,target,start,end)\n",
    "\n",
    "def binarySearch(arr, target, start, end):\n",
    "\n",
    "    while start <= end:\n",
    "    \n",
    "        mid = start + (end - start) // 2\n",
    "    \n",
    "        if target > arr[mid]:\n",
    "            start = mid + 1\n",
    "        elif target < arr[mid] :\n",
    "            end = mid - 1\n",
    "        else:\n",
    "            return mid\n",
    "    return -1"
   ]
  },
  {
   "cell_type": "code",
   "execution_count": 5,
   "metadata": {},
   "outputs": [],
   "source": [
    "arr = [3,5,7,9,10,90,100,130,140,160,170]\n",
    "target = 10"
   ]
  },
  {
   "cell_type": "code",
   "execution_count": 6,
   "metadata": {},
   "outputs": [
    {
     "name": "stdout",
     "output_type": "stream",
     "text": [
      "4\n"
     ]
    }
   ],
   "source": [
    "print(ans(arr=arr,target=target))"
   ]
  },
  {
   "cell_type": "code",
   "execution_count": null,
   "metadata": {},
   "outputs": [],
   "source": []
  }
 ],
 "metadata": {
  "kernelspec": {
   "display_name": "py310",
   "language": "python",
   "name": "python3"
  },
  "language_info": {
   "codemirror_mode": {
    "name": "ipython",
    "version": 3
   },
   "file_extension": ".py",
   "mimetype": "text/x-python",
   "name": "python",
   "nbconvert_exporter": "python",
   "pygments_lexer": "ipython3",
   "version": "3.10.13"
  }
 },
 "nbformat": 4,
 "nbformat_minor": 2
}
