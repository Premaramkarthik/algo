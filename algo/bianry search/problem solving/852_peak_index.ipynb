{
 "cells": [
  {
   "cell_type": "code",
   "execution_count": null,
   "metadata": {},
   "outputs": [],
   "source": [
    "def peakIndexInMountainArray(self, arr):\n",
    "    start = 0\n",
    "    end = len(arr) - 1\n",
    "    \n",
    "    while start < end:\n",
    "        mid = start + (end - start) // 2\n",
    "        if arr[mid] > arr[mid + 1]:\n",
    "            # you are in dec part of array\n",
    "            # this may be the ans , but look at left \n",
    "            # this is my end != mid -1\n",
    "            end = mid\n",
    "        else:\n",
    "            #  you are in asc part of array\n",
    "            start = mid + 1\n",
    "        # in the end, start == end and pointing to the largest number because of the 2 checks\n",
    "        # start and end are always tring to find the max element in the above to checks\n",
    "        # hence,  when they are pointing to just on element, that is max on because the checks say\n",
    "        # more elaboration :at every point of time from start and end, they have the best possible answertill the time\n",
    "        # if we are saying that on eitem is remaining, hence cuz line that is the bes t possible ans\n",
    "        \n",
    "        return start # we can returnn star and end because the start and end are pointing the same element\n",
    "    "
   ]
  },
  {
   "cell_type": "code",
   "execution_count": null,
   "metadata": {},
   "outputs": [],
   "source": []
  }
 ],
 "metadata": {
  "kernelspec": {
   "display_name": "py310",
   "language": "python",
   "name": "python3"
  },
  "language_info": {
   "name": "python",
   "version": "3.10.13"
  }
 },
 "nbformat": 4,
 "nbformat_minor": 2
}
