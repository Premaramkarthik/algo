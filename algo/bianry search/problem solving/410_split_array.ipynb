{
 "cells": [
  {
   "cell_type": "markdown",
   "metadata": {},
   "source": [
    "* case 1 - min no of partitions that we can made = 1\n",
    "* case 2 - what is the max no of partitions / m that can be = n\n",
    "    * arr[3,4,1,2] = [3],[4],[1],[2]\n",
    "\n",
    "in case 1:\n",
    "what will be the ans in case 1\n",
    "    [7,2,5,10,8]  max value of array\n",
    "\n",
    "\n",
    "case 2:\n",
    "[3,4,1,2]\n",
    "max element in arr = 4\n",
    "sum of all values in array\n",
    "\n",
    "\n",
    "max value of ans of question = case 1  \n",
    "min value of ans of question = case 2\n",
    "\n",
    "min ans = max values of array\n",
    "max ans = sum of all values in array\n"
   ]
  },
  {
   "cell_type": "code",
   "execution_count": null,
   "metadata": {},
   "outputs": [],
   "source": [
    "def splitArray(nums, k):\n",
    "    \"\"\"\n",
    "    :type nums: List[int]\n",
    "    :type k: int\n",
    "    :rtype: int\n",
    "    \"\"\"\n",
    "    start = 0\n",
    "    end  = 0\n",
    "    \n",
    "    for i in range(len(nums)):\n",
    "        start = max(start,nums[i])# inthe end of the loop this will contain hte max item in the start\n",
    "        end += sum(nums[i])\n",
    "        \n",
    "    # binary search\n",
    "    \n",
    "    while start < end:\n",
    "        mid = start + ( end  - start ) // 2\n",
    "        # cal how many piece you can divide this in eith this max sum\n",
    "        \n",
    "        sum = 0\n",
    "        pieces = 1\n",
    "        \n",
    "        for num in nums:\n",
    "            if sum + num > mid:\n",
    "                # you can  not add this in subarray , make new one\n",
    "                # say you add this num in new subarray, then sum = sum\n",
    "                \n",
    "                sum = num\n",
    "                pieces += pieces\n",
    "                \n",
    "            else:\n",
    "                start += num\n",
    "                \n",
    "                \n",
    "            if pieces > m:\n",
    "                start = mid + 1\n",
    "            else:\n",
    "                end = mid \n",
    "                \n",
    "            \n",
    "        \n",
    "    return end # here start == end\n",
    "    "
   ]
  }
 ],
 "metadata": {
  "kernelspec": {
   "display_name": "py310",
   "language": "python",
   "name": "python3"
  },
  "language_info": {
   "name": "python",
   "version": "3.10.13"
  }
 },
 "nbformat": 4,
 "nbformat_minor": 2
}
