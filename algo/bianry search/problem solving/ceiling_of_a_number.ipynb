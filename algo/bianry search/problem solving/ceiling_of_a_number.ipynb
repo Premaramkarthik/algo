{
 "cells": [
  {
   "cell_type": "code",
   "execution_count": null,
   "metadata": {},
   "outputs": [],
   "source": [
    "# return index of smallest no >= target \n",
    "# this is only for sorted array\n",
    "\n",
    "def ceiling(arr, target):\n",
    "    start = arr[0]\n",
    "    end = len(arr) - 1\n",
    "    \n",
    "    # but what if the target is greater than greatest number\n",
    "    if target > len(arr) -1:\n",
    "        return -1\n",
    "    \n",
    "    while start <= end:\n",
    "        mid = start + (end - start) // 2\n",
    "                        \n",
    "        if target > arr[mid]:\n",
    "            start = mid +1\n",
    "        elif target < arr[mid]: \n",
    "            end = mid -1\n",
    "        else: \n",
    "            return mid\n",
    "                   \n",
    "    return start   "
   ]
  },
  {
   "cell_type": "code",
   "execution_count": 11,
   "metadata": {},
   "outputs": [],
   "source": [
    "def ceiling(arr, target):\n",
    "    start = 0\n",
    "    end = len(arr)  - 1\n",
    "\n",
    "    \n",
    "    while start <= end:\n",
    "\n",
    "        mid = start + (end - start) // 2\n",
    "\n",
    "        if target > arr[mid]:\n",
    "            start = mid + 1\n",
    "        elif target < arr[mid]:\n",
    "            end = mid - 1\n",
    "        else:\n",
    "            return mid\n",
    "        \n",
    "    return start"
   ]
  },
  {
   "cell_type": "code",
   "execution_count": 12,
   "metadata": {},
   "outputs": [],
   "source": [
    "arr3 = [2,3,5,9,14,16,18]"
   ]
  },
  {
   "cell_type": "code",
   "execution_count": 16,
   "metadata": {},
   "outputs": [
    {
     "name": "stdout",
     "output_type": "stream",
     "text": [
      "5\n"
     ]
    }
   ],
   "source": [
    "ans = ceiling(arr3,target=15)\n",
    "print(ans)"
   ]
  },
  {
   "cell_type": "code",
   "execution_count": null,
   "metadata": {},
   "outputs": [],
   "source": []
  }
 ],
 "metadata": {
  "kernelspec": {
   "display_name": "pt310",
   "language": "python",
   "name": "python3"
  },
  "language_info": {
   "codemirror_mode": {
    "name": "ipython",
    "version": 3
   },
   "file_extension": ".py",
   "mimetype": "text/x-python",
   "name": "python",
   "nbconvert_exporter": "python",
   "pygments_lexer": "ipython3",
   "version": "3.10.16"
  }
 },
 "nbformat": 4,
 "nbformat_minor": 2
}
