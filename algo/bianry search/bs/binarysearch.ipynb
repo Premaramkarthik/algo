{
 "cells": [
  {
   "cell_type": "code",
   "execution_count": 3,
   "metadata": {},
   "outputs": [],
   "source": [
    "# sorted array  binary search\n",
    "\n",
    "def fun(a,target):\n",
    "    start = 0\n",
    "    end = len(a) - 1\n",
    "    \n",
    "    while start <= end:\n",
    "        \n",
    "        mid = start + (end -start) // 2\n",
    "        \n",
    "        if target < a[mid]:\n",
    "            end = mid - 1\n",
    "            \n",
    "        elif target > a[mid]:\n",
    "            start = mid + 1\n",
    "            \n",
    "        else :\n",
    "            return mid\n",
    "        \n",
    "    return -1"
   ]
  },
  {
   "cell_type": "code",
   "execution_count": 4,
   "metadata": {},
   "outputs": [
    {
     "name": "stdout",
     "output_type": "stream",
     "text": [
      "3\n"
     ]
    }
   ],
   "source": [
    "a = [-18,-12,-4,0,2,3,4,15,16,18,22,45,84]\n",
    "target = 0\n",
    "ans = fun(a,target)\n",
    "print(ans)"
   ]
  },
  {
   "cell_type": "code",
   "execution_count": 4,
   "metadata": {},
   "outputs": [],
   "source": [
    "def fun(a, target):\n",
    "    start = 0\n",
    "    end = len(a) -1 \n",
    "\n",
    "\n",
    "    if a[start] == target:   \n",
    "        return start\n",
    "    \n",
    "    if a[end] == target:\n",
    "        return end\n",
    "\n",
    "\n",
    "    while start <= end:\n",
    "        mid = start + (end -start) // 2\n",
    "        \n",
    "        if target > a[mid]:\n",
    "            start = mid + 1\n",
    "        elif target < a[mid]:\n",
    "            end = mid - 1\n",
    "\n",
    "        else:\n",
    "            return mid\n",
    "        \n",
    "    return -1\n",
    "               \n"
   ]
  },
  {
   "cell_type": "code",
   "execution_count": 5,
   "metadata": {},
   "outputs": [
    {
     "name": "stdout",
     "output_type": "stream",
     "text": [
      "2\n"
     ]
    }
   ],
   "source": [
    "a = [-18,-12,-4,0,2,3,4,15,16,18,22,45,84]\n",
    "target = -4\n",
    "ans = fun(a,target)\n",
    "print(ans)"
   ]
  },
  {
   "cell_type": "code",
   "execution_count": null,
   "metadata": {},
   "outputs": [],
   "source": []
  }
 ],
 "metadata": {
  "kernelspec": {
   "display_name": "pt310",
   "language": "python",
   "name": "python3"
  },
  "language_info": {
   "codemirror_mode": {
    "name": "ipython",
    "version": 3
   },
   "file_extension": ".py",
   "mimetype": "text/x-python",
   "name": "python",
   "nbconvert_exporter": "python",
   "pygments_lexer": "ipython3",
   "version": "3.10.16"
  }
 },
 "nbformat": 4,
 "nbformat_minor": 2
}
