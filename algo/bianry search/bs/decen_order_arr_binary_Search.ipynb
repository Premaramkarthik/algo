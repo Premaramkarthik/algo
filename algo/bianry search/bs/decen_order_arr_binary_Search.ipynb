{
 "cells": [
  {
   "cell_type": "code",
   "execution_count": 1,
   "metadata": {},
   "outputs": [
    {
     "name": "stdout",
     "output_type": "stream",
     "text": [
      "12\n"
     ]
    }
   ],
   "source": [
    "def decen_order_arr_binary_search(arr,target):\n",
    "    start = 0 \n",
    "    end = len(arr) - 1\n",
    "\n",
    "    if arr[start] == target:\n",
    "        return start\n",
    "\n",
    "    if arr[end] == target:\n",
    "        return end\n",
    "    \n",
    "    while start <= end:\n",
    "\n",
    "        mid = start +(end - start) // 2\n",
    "\n",
    "        if arr[mid] == target:\n",
    "            return mid \n",
    "        \n",
    "        if target > arr[mid]:\n",
    "            end = mid - 1\n",
    "        else:\n",
    "            start = mid + 1\n",
    "\n",
    "    return -1 \n",
    "\n",
    "a = [-18,-12,-4,0,2,3,4,15,16,18,22,45,84]\n",
    "a.sort(reverse=True)\n",
    "ans = decen_order_arr_binary_search(a,target= -18)\n",
    "print(ans)"
   ]
  },
  {
   "cell_type": "code",
   "execution_count": 29,
   "metadata": {},
   "outputs": [],
   "source": [
    "def decen_order_arr_binary_search(arr,target):\n",
    "    start = 0\n",
    "    end = len(a) - 1\n",
    "    \n",
    "    while start <= end:\n",
    "        \n",
    "        mid = start + (end - start) // 2\n",
    "        \n",
    "        if target > arr[mid]:\n",
    "            end = mid -1\n",
    "        elif target < arr[mid] :\n",
    "            start  = mid + 1\n",
    "        else:\n",
    "            return mid\n",
    "        \n",
    "    return -1 \n",
    "        "
   ]
  },
  {
   "cell_type": "code",
   "execution_count": null,
   "metadata": {},
   "outputs": [],
   "source": [
    "a = [-18,-12,-4,0,2,3,4,15,16,18,22,45,84]\n",
    "a.sort(reverse=True)\n"
   ]
  },
  {
   "cell_type": "code",
   "execution_count": 31,
   "metadata": {},
   "outputs": [
    {
     "data": {
      "text/plain": [
       "[84, 45, 22, 18, 16, 15, 4, 3, 2, 0, -4, -12, -18]"
      ]
     },
     "execution_count": 31,
     "metadata": {},
     "output_type": "execute_result"
    }
   ],
   "source": [
    "a"
   ]
  },
  {
   "cell_type": "code",
   "execution_count": 36,
   "metadata": {},
   "outputs": [
    {
     "name": "stdout",
     "output_type": "stream",
     "text": [
      "12\n"
     ]
    }
   ],
   "source": [
    "ans = decen_order_arr_binary_search(a,target= -18)\n",
    "print(ans)"
   ]
  },
  {
   "cell_type": "code",
   "execution_count": 33,
   "metadata": {},
   "outputs": [
    {
     "name": "stdout",
     "output_type": "stream",
     "text": [
      "1\n"
     ]
    }
   ],
   "source": []
  },
  {
   "cell_type": "code",
   "execution_count": null,
   "metadata": {},
   "outputs": [],
   "source": []
  }
 ],
 "metadata": {
  "kernelspec": {
   "display_name": "pt310",
   "language": "python",
   "name": "python3"
  },
  "language_info": {
   "codemirror_mode": {
    "name": "ipython",
    "version": 3
   },
   "file_extension": ".py",
   "mimetype": "text/x-python",
   "name": "python",
   "nbconvert_exporter": "python",
   "pygments_lexer": "ipython3",
   "version": "3.10.16"
  }
 },
 "nbformat": 4,
 "nbformat_minor": 2
}
