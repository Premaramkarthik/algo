{
 "cells": [
  {
   "cell_type": "code",
   "execution_count": 7,
   "metadata": {},
   "outputs": [],
   "source": [
    "def bubble_sort(arr):\n",
    "    \n",
    "    # Run the steps n-1 times\n",
    "    for i in range(len(arr)):\n",
    "        # For each step, max item will come at the last respective index\n",
    "        for j in range(1, len(arr) - i):\n",
    "            # Swap if the item is smaller than the previous item\n",
    "            if arr[j] < arr[j - 1]:\n",
    "                # Swap\n",
    "                temp = arr[j]\n",
    "                arr[j] = arr[j - 1]\n",
    "                arr[j - 1] = temp\n",
    "                \n",
    "\n"
   ]
  },
  {
   "cell_type": "code",
   "execution_count": 11,
   "metadata": {},
   "outputs": [
    {
     "name": "stdout",
     "output_type": "stream",
     "text": [
      "Sorted array: [1, 2, 3, 4, 5]\n"
     ]
    }
   ],
   "source": [
    "arr = [5,4,3,2,1]\n",
    "bubble_sort(arr)\n",
    "print(\"Sorted array:\", arr)"
   ]
  },
  {
   "cell_type": "code",
   "execution_count": 12,
   "metadata": {},
   "outputs": [],
   "source": [
    "def bubble_sort(arr):\n",
    "    swapped = False \n",
    "    # Run the steps n-1 times\n",
    "    for i in range(len(arr)):\n",
    "        swapped  = False\n",
    "        # For each step, max item will come at the last respective index\n",
    "        for j in range(1, len(arr) - i):\n",
    "            # Swap if the item is smaller than the previous item\n",
    "            if arr[j] < arr[j - 1]:\n",
    "                # Swap\n",
    "                temp = arr[j]\n",
    "                arr[j] = arr[j - 1]\n",
    "                arr[j - 1] = temp\n",
    "                swapped = True\n",
    "        # if you didi not swap for a particular value of i, it means the arrray is sorted hence stop the program\n",
    "        if not swapped:\n",
    "            break\n",
    "            \n",
    "\n"
   ]
  },
  {
   "cell_type": "code",
   "execution_count": 13,
   "metadata": {},
   "outputs": [
    {
     "name": "stdout",
     "output_type": "stream",
     "text": [
      "Sorted array: [1, 2, 3, 4, 5]\n"
     ]
    }
   ],
   "source": [
    "arr = [5,4,3,2,1]\n",
    "bubble_sort(arr)\n",
    "print(\"Sorted array:\", arr)"
   ]
  },
  {
   "cell_type": "code",
   "execution_count": 15,
   "metadata": {},
   "outputs": [
    {
     "name": "stdout",
     "output_type": "stream",
     "text": [
      "Sorted array: [-5, -3, 0, 3, 5, 6]\n"
     ]
    }
   ],
   "source": [
    "arr = [-3,-5,0,6,5,3]\n",
    "bubble_sort(arr)\n",
    "print(\"Sorted array:\", arr)"
   ]
  },
  {
   "cell_type": "code",
   "execution_count": 16,
   "metadata": {},
   "outputs": [
    {
     "name": "stdout",
     "output_type": "stream",
     "text": [
      "Sorted array: [1, 2, 3, 4, 5]\n"
     ]
    }
   ],
   "source": [
    "arr = [3,1,5,4,2]\n",
    "bubble_sort(arr)\n",
    "print(\"Sorted array:\", arr)"
   ]
  },
  {
   "cell_type": "code",
   "execution_count": null,
   "metadata": {},
   "outputs": [],
   "source": [
    "def bubble_sort(arr):\n",
    "    swapped = False \n",
    "    # Run the steps n-1 times\n",
    "    for i in range(len(arr)):\n",
    "        swapped  = False\n",
    "        # For each step, max item will come at the last respective index\n",
    "        for j in range(1, len(arr) - i):\n",
    "            # Swap if the item is smaller than the previous item\n",
    "            if arr[j] < arr[j - 1]:\n",
    "                # Swap\n",
    "                arr[j] , arr[j-1] = arr[j-1] , arr[j]\n",
    "                swapped = True\n",
    "        # if you did not swap for a particular value of i, it means the arrray is sorted hence stop the program\n",
    "        if not swapped:\n",
    "            break\n",
    "            \n",
    "\n"
   ]
  },
  {
   "cell_type": "code",
   "execution_count": 18,
   "metadata": {},
   "outputs": [
    {
     "name": "stdout",
     "output_type": "stream",
     "text": [
      "Sorted array: [1, 2, 3, 4, 5]\n"
     ]
    }
   ],
   "source": [
    "arr = [3,1,5,4,2]\n",
    "bubble_sort(arr)\n",
    "print(\"Sorted array:\", arr)"
   ]
  },
  {
   "cell_type": "code",
   "execution_count": null,
   "metadata": {},
   "outputs": [],
   "source": []
  }
 ],
 "metadata": {
  "kernelspec": {
   "display_name": "py310",
   "language": "python",
   "name": "python3"
  },
  "language_info": {
   "codemirror_mode": {
    "name": "ipython",
    "version": 3
   },
   "file_extension": ".py",
   "mimetype": "text/x-python",
   "name": "python",
   "nbconvert_exporter": "python",
   "pygments_lexer": "ipython3",
   "version": "3.10.13"
  }
 },
 "nbformat": 4,
 "nbformat_minor": 2
}
