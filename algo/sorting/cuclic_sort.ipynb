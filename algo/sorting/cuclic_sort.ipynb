{
 "cells": [
  {
   "cell_type": "code",
   "execution_count": null,
   "metadata": {},
   "outputs": [],
   "source": [
    "def swap(arr, first, second):\n",
    "    arr[first], arr[second] = arr[second], arr[first]\n",
    "\n",
    "def sort(arr):\n",
    "    i = 0\n",
    "    while i < len(arr):\n",
    "        correct = arr[i] - 1\n",
    "        if arr[i] != arr[correct]:\n",
    "            swap(arr,i, correct)\n",
    "        else:\n",
    "            i += 1"
   ]
  },
  {
   "cell_type": "code",
   "execution_count": 1,
   "metadata": {},
   "outputs": [
    {
     "name": "stdout",
     "output_type": "stream",
     "text": [
      "[1, 2, 3, 4, 5]\n"
     ]
    }
   ],
   "source": [
    "arr = [3,5,2,1,4]\n",
    "\n",
    "i = 0\n",
    "\n",
    "while i < len(arr):\n",
    "    correct = arr[i] - 1\n",
    "\n",
    "    if arr[i] != arr[correct]:\n",
    "        arr[i], arr[correct] = arr[correct], arr[i]\n",
    "    else:\n",
    "        i += 1\n",
    "\n",
    "print(arr)"
   ]
  },
  {
   "cell_type": "code",
   "execution_count": 1,
   "metadata": {},
   "outputs": [],
   "source": [
    "def sort_1(arr):\n",
    "    i = 0\n",
    "    while i < len(arr):\n",
    "        correct = arr[i] - 1\n",
    "        if arr[i] != arr[correct]:\n",
    "            arr[i], arr[correct] = arr[correct], arr[i]\n",
    "        else:\n",
    "            i += 1"
   ]
  },
  {
   "cell_type": "code",
   "execution_count": 22,
   "metadata": {},
   "outputs": [
    {
     "name": "stdout",
     "output_type": "stream",
     "text": [
      "after sorting:  [1, 2, 3, 4, 5]\n"
     ]
    }
   ],
   "source": [
    "arr = [3,5,2,1,4]\n",
    "sort_1(arr)\n",
    "print('after sorting: ', arr)"
   ]
  },
  {
   "cell_type": "code",
   "execution_count": 18,
   "metadata": {},
   "outputs": [
    {
     "name": "stdout",
     "output_type": "stream",
     "text": [
      "after sorting:  [1, 2, 3, 4, 5]\n"
     ]
    }
   ],
   "source": [
    "arr = [1,2,3,4,5]\n",
    "sort(arr)\n",
    "print('after sorting: ', arr)"
   ]
  },
  {
   "cell_type": "markdown",
   "metadata": {},
   "source": [
    "leetcode 268"
   ]
  },
  {
   "cell_type": "code",
   "execution_count": null,
   "metadata": {},
   "outputs": [],
   "source": [
    "class Solution(object):\n",
    "    def missingNumber(self, nums):\n",
    "        \"\"\"\n",
    "        :type nums: List[int]\n",
    "        :rtype: int\n",
    "        \"\"\"\n",
    "        i = 0\n",
    "        while i < len(nums):\n",
    "            correct = nums[i]\n",
    "            if nums[i] != nums[correct]:\n",
    "                nums[i], nums[correct] = nums[correct], nums[i]\n",
    "            else:\n",
    "                i += 1\n",
    "            \n",
    "        # search for first missing number\n",
    "        for i in range(len(nums)):\n",
    "            if nums[i] !=  i:\n",
    "                return i\n",
    "        \n",
    "        # case 2\n",
    "        return len(nums)\n",
    "            "
   ]
  },
  {
   "cell_type": "code",
   "execution_count": null,
   "metadata": {},
   "outputs": [],
   "source": [
    "class Solution(object):\n",
    "    def missingNumber(self, nums):\n",
    "        \"\"\"\n",
    "        :type nums: List[int]\n",
    "        :rtype: int\n",
    "        \"\"\"\n",
    "        def swap(nums, first, second):\n",
    "            nums[first], nums[second] = nums[second], nums[first]\n",
    "\n",
    "            \n",
    "        i = 0\n",
    "        while i < len(nums):\n",
    "            correct = nums[i]  # Correct index for nums[i] should be nums[i] at index nums[i] - 1\n",
    "            \n",
    "            # Only swap if the element is within range [0, len(nums) - 1] and it's not in the correct place\n",
    "            if 0 <= nums[i] < len(nums) and nums[i] != nums[correct]:\n",
    "                swap(nums, i, correct)\n",
    "            else:\n",
    "                i += 1\n",
    "\n",
    "        # Search for the first missing number\n",
    "        for i in range(len(nums)):\n",
    "            if nums[i] != i:\n",
    "                return i\n",
    "        \n",
    "        # If all positions are filled correctly, return len(nums)\n",
    "        return len(nums)\n"
   ]
  },
  {
   "cell_type": "code",
   "execution_count": null,
   "metadata": {},
   "outputs": [],
   "source": [
    "class Solution(object):\n",
    "    def missingNumber(self, nums):\n",
    "        \"\"\"\n",
    "        :type nums: List[int]\n",
    "        :rtype: int\n",
    "        \"\"\"\n",
    "        def swap(nums, first, second):\n",
    "            temp = nums[first]\n",
    "            nums[first] = nums[second]\n",
    "            nums[second] = temp\n",
    "            \n",
    "        i = 0\n",
    "        while i < len(nums):\n",
    "            correct = nums[i]  # Correct index for nums[i] should be nums[i] at index nums[i] - 1\n",
    "            \n",
    "            # Only swap if the element is within range [0, len(nums) - 1] and it's not in the correct place\n",
    "            if 0 <= nums[i] < len(nums) and nums[i] != nums[correct]:\n",
    "                swap(nums, i, correct)\n",
    "            else:\n",
    "                i += 1\n",
    "\n",
    "        # Search for the first missing number\n",
    "        for i in range(len(nums)):\n",
    "            if nums[i] != i:\n",
    "                return i\n",
    "        \n",
    "        # If all positions are filled correctly, return len(nums)\n",
    "        return len(nums)\n"
   ]
  }
 ],
 "metadata": {
  "kernelspec": {
   "display_name": "pt310",
   "language": "python",
   "name": "python3"
  },
  "language_info": {
   "codemirror_mode": {
    "name": "ipython",
    "version": 3
   },
   "file_extension": ".py",
   "mimetype": "text/x-python",
   "name": "python",
   "nbconvert_exporter": "python",
   "pygments_lexer": "ipython3",
   "version": "3.10.16"
  }
 },
 "nbformat": 4,
 "nbformat_minor": 2
}
