{
 "cells": [
  {
   "cell_type": "code",
   "execution_count": 3,
   "metadata": {},
   "outputs": [],
   "source": [
    "def getmaxIndex(arr,start, end):\n",
    "    max_index = start\n",
    "    for i in range(start, end + 1):\n",
    "        if arr[max_index] < arr[i]:\n",
    "            max_index = i\n",
    "    return max_index\n",
    "    \n",
    "\n",
    "def swap(arr,first, second):\n",
    "    temp = arr[first]\n",
    "    arr[first]  = arr[second]\n",
    "    arr[second] = temp\n",
    "     \n",
    "def selection(arr):\n",
    "    for i in range(len(arr)):\n",
    "        # find the max item in the remaing array and swap with correct index\n",
    "        last = len(arr) - i - 1\n",
    "        maxIndex = getmaxIndex(arr, 0 , last)\n",
    "        swap(arr,maxIndex,last)\n",
    "        "
   ]
  },
  {
   "cell_type": "code",
   "execution_count": 1,
   "metadata": {},
   "outputs": [],
   "source": [
    "def getmaxIndex(arr,start, end):\n",
    "    max_index = start\n",
    "    for i in range(start, end + 1):\n",
    "        if arr[max_index] < arr[i]:\n",
    "            max_index = i\n",
    "    return max_index\n",
    "    \n",
    "\n",
    "def swap(arr,first, second):\n",
    "    arr[first], arr[second] = arr[second] , arr[first]\n",
    "     \n",
    "def selection(arr):\n",
    "    for i in range(len(arr)):\n",
    "        # find the max item in the remaing array and swap with correct index\n",
    "        last = len(arr) - i - 1\n",
    "        maxIndex = getmaxIndex(arr, 0 , last)\n",
    "        swap(arr,maxIndex,last)\n",
    "        "
   ]
  },
  {
   "cell_type": "code",
   "execution_count": 5,
   "metadata": {},
   "outputs": [
    {
     "name": "stdout",
     "output_type": "stream",
     "text": [
      "[1, 2, 3, 4, 5]\n"
     ]
    }
   ],
   "source": [
    "arr = [5,4,3,2,1]\n",
    "\n",
    "for i in range(len(arr)):\n",
    "    last = len(arr) - i - 1 \n",
    "    max_index = 0\n",
    "\n",
    "    for j in range(0,last+1):\n",
    "        if arr[max_index] < arr[j]:\n",
    "            max_index  = j\n",
    "    \n",
    "    arr[max_index], arr[last] = arr[last], arr[max_index]\n",
    "print(arr)"
   ]
  },
  {
   "cell_type": "code",
   "execution_count": 2,
   "metadata": {},
   "outputs": [
    {
     "name": "stdout",
     "output_type": "stream",
     "text": [
      "Sorted array: [1, 2, 3, 4, 5]\n"
     ]
    }
   ],
   "source": [
    "arr = [5,4,3,2,1]\n",
    "selection(arr)\n",
    "print(\"Sorted array:\", arr)"
   ]
  },
  {
   "cell_type": "code",
   "execution_count": 5,
   "metadata": {},
   "outputs": [
    {
     "name": "stdout",
     "output_type": "stream",
     "text": [
      "Sorted array: []\n"
     ]
    }
   ],
   "source": [
    "arr = []\n",
    "selection(arr)\n",
    "print(\"Sorted array:\", arr)"
   ]
  },
  {
   "cell_type": "code",
   "execution_count": 6,
   "metadata": {},
   "outputs": [
    {
     "name": "stdout",
     "output_type": "stream",
     "text": [
      "Sorted array: [1]\n"
     ]
    }
   ],
   "source": [
    "arr = [1]\n",
    "selection(arr)\n",
    "print(\"Sorted array:\", arr)"
   ]
  },
  {
   "cell_type": "code",
   "execution_count": 7,
   "metadata": {},
   "outputs": [
    {
     "name": "stdout",
     "output_type": "stream",
     "text": [
      "Sorted array: [1, 2]\n"
     ]
    }
   ],
   "source": [
    "arr = [2,1]\n",
    "selection(arr)\n",
    "print(\"Sorted array:\", arr)"
   ]
  },
  {
   "cell_type": "code",
   "execution_count": 9,
   "metadata": {},
   "outputs": [
    {
     "name": "stdout",
     "output_type": "stream",
     "text": [
      "sorted array: [-34, -9, -9, 0, 2, 4, 32]\n"
     ]
    }
   ],
   "source": [
    "arr = [-9,-34,-9,0,2,32,4]\n",
    "selection(arr)\n",
    "print('sorted array:', arr)"
   ]
  },
  {
   "cell_type": "code",
   "execution_count": null,
   "metadata": {},
   "outputs": [],
   "source": []
  }
 ],
 "metadata": {
  "kernelspec": {
   "display_name": "pt310",
   "language": "python",
   "name": "python3"
  },
  "language_info": {
   "codemirror_mode": {
    "name": "ipython",
    "version": 3
   },
   "file_extension": ".py",
   "mimetype": "text/x-python",
   "name": "python",
   "nbconvert_exporter": "python",
   "pygments_lexer": "ipython3",
   "version": "3.10.16"
  }
 },
 "nbformat": 4,
 "nbformat_minor": 2
}
