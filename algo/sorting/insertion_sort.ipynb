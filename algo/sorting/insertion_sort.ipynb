{
 "cells": [
  {
   "cell_type": "code",
   "execution_count": 4,
   "metadata": {},
   "outputs": [],
   "source": [
    "def swap(arr, first, second):\n",
    "    temp = arr[first]\n",
    "    arr[first] = arr[second]\n",
    "    arr[second] = temp\n",
    "\n",
    "def insertion(arr):\n",
    "    for i in range(1, len(arr)):  # Start from 1 to correctly perform insertion sort\n",
    "        j = i\n",
    "        while j > 0 and arr[j] < arr[j - 1]:  # Check condition before swapping\n",
    "            swap(arr, j, j - 1)\n",
    "            j -= 1  # Move to the left to check the next pair\n"
   ]
  },
  {
   "cell_type": "code",
   "execution_count": 5,
   "metadata": {},
   "outputs": [
    {
     "name": "stdout",
     "output_type": "stream",
     "text": [
      "after sorting:  [1, 2, 3, 4, 5]\n"
     ]
    }
   ],
   "source": [
    "arr = [ 5,3,4,1,2]\n",
    "insertion(arr)\n",
    "print('after sorting: ', arr)"
   ]
  },
  {
   "cell_type": "code",
   "execution_count": 6,
   "metadata": {},
   "outputs": [],
   "source": [
    "def swap(arr, first, second):\n",
    "    arr[first], arr[second] = arr[second], arr[first]\n",
    "\n",
    "def insertion(arr):\n",
    "    for i in range(1, len(arr)):  # Start from 1 to correctly perform insertion sort\n",
    "        j = i\n",
    "        while j > 0 and arr[j] < arr[j - 1]:  # Check condition before swapping\n",
    "            swap(arr, j, j - 1)\n",
    "            j -= 1  # Move to the left to check the next pair\n"
   ]
  },
  {
   "cell_type": "code",
   "execution_count": 1,
   "metadata": {},
   "outputs": [
    {
     "name": "stdout",
     "output_type": "stream",
     "text": [
      "[1, 2, 3, 4, 5]\n"
     ]
    }
   ],
   "source": [
    "arr = [ 5,3,4,1,2]\n",
    "\n",
    "for i in range(1, len(arr)):\n",
    "    j = i\n",
    "    while j > 0 and arr[j] < arr[j - 1]:\n",
    "        arr[j], arr[j - 1] = arr[j - 1], arr[j]\n",
    "        j -= 1\n",
    "\n",
    "print(arr)"
   ]
  },
  {
   "cell_type": "code",
   "execution_count": null,
   "metadata": {},
   "outputs": [
    {
     "name": "stdout",
     "output_type": "stream",
     "text": [
      "after sorting:  [1, 2, 3, 4, 5]\n"
     ]
    }
   ],
   "source": [
    "arr = [ 5,3,4,1,2]\n",
    "insertion(arr)\n",
    "print('after sorting: ', arr)"
   ]
  },
  {
   "cell_type": "code",
   "execution_count": 8,
   "metadata": {},
   "outputs": [
    {
     "name": "stdout",
     "output_type": "stream",
     "text": [
      "after sorting:  []\n"
     ]
    }
   ],
   "source": [
    "arr = []\n",
    "insertion(arr)\n",
    "print('after sorting: ', arr)"
   ]
  },
  {
   "cell_type": "code",
   "execution_count": 9,
   "metadata": {},
   "outputs": [
    {
     "name": "stdout",
     "output_type": "stream",
     "text": [
      "after sorting:  [-31, -23, -3, 3, 32]\n"
     ]
    }
   ],
   "source": [
    "arr = [ -3,-31,32,-23,3]\n",
    "insertion(arr)\n",
    "print('after sorting: ', arr)"
   ]
  },
  {
   "cell_type": "code",
   "execution_count": null,
   "metadata": {},
   "outputs": [],
   "source": []
  },
  {
   "cell_type": "code",
   "execution_count": null,
   "metadata": {},
   "outputs": [],
   "source": []
  }
 ],
 "metadata": {
  "kernelspec": {
   "display_name": "pt310",
   "language": "python",
   "name": "python3"
  },
  "language_info": {
   "codemirror_mode": {
    "name": "ipython",
    "version": 3
   },
   "file_extension": ".py",
   "mimetype": "text/x-python",
   "name": "python",
   "nbconvert_exporter": "python",
   "pygments_lexer": "ipython3",
   "version": "3.10.16"
  }
 },
 "nbformat": 4,
 "nbformat_minor": 2
}
