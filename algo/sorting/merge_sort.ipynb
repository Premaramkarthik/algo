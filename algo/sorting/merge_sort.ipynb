{
 "cells": [
  {
   "cell_type": "code",
   "execution_count": null,
   "id": "1221d52d",
   "metadata": {},
   "outputs": [],
   "source": [
    "def merge_sorted(arr1, arr2):\n",
    "    i = j= 0\n",
    "\n",
    "    merged = []\n",
    "\n",
    "    while i < len(arr1) and j < len(arr2):\n",
    "        if arr1[i] < arr2[j]:\n",
    "            merged.append(arr1[i])\n",
    "            i+=1\n",
    "        else :\n",
    "            merged.append(arr2[j])\n",
    "            j+=1\n",
    "    \n",
    "    while i< len(arr1):\n",
    "        merged.append(arr1[i])\n",
    "        i+=1\n",
    "    while j< len(arr2):\n",
    "        merged.append(arr2[j])\n",
    "        j+=1\n",
    "            \n",
    "    return merged\n",
    "\n"
   ]
  },
  {
   "cell_type": "code",
   "execution_count": 6,
   "id": "5a95b6d7",
   "metadata": {},
   "outputs": [
    {
     "data": {
      "text/plain": [
       "[1, 2, 3, 4, 5, 7]"
      ]
     },
     "execution_count": 6,
     "metadata": {},
     "output_type": "execute_result"
    }
   ],
   "source": [
    "arr1 = [1,2,4]\n",
    "arr2 = [3,5,7]\n",
    "merge_sorted(arr1, arr2)"
   ]
  },
  {
   "cell_type": "code",
   "execution_count": 7,
   "id": "a1e30457",
   "metadata": {},
   "outputs": [],
   "source": [
    "def merge_sort(arr):\n",
    "    if len(arr) == 1:\n",
    "        return arr\n",
    "    \n",
    "    mid = len(arr)//2\n",
    "\n",
    "    left = arr[:mid]\n",
    "\n",
    "    right = arr[mid:]\n",
    "\n",
    "    left = merge_sort(left)\n",
    "    right = merge_sort(right)\n",
    "\n",
    "    return merge_sorted(left, right)"
   ]
  },
  {
   "cell_type": "code",
   "execution_count": 9,
   "id": "6d5710c8",
   "metadata": {},
   "outputs": [
    {
     "data": {
      "text/plain": [
       "[1, 2, 3, 4, 6, 7]"
      ]
     },
     "execution_count": 9,
     "metadata": {},
     "output_type": "execute_result"
    }
   ],
   "source": [
    "arr1 = [1,2,4,7,3,6]\n",
    "arr2 = [3,5,7]\n",
    "merge_sort(arr1)"
   ]
  },
  {
   "cell_type": "code",
   "execution_count": null,
   "id": "b12672d6",
   "metadata": {},
   "outputs": [],
   "source": []
  }
 ],
 "metadata": {
  "kernelspec": {
   "display_name": "py310",
   "language": "python",
   "name": "python3"
  },
  "language_info": {
   "codemirror_mode": {
    "name": "ipython",
    "version": 3
   },
   "file_extension": ".py",
   "mimetype": "text/x-python",
   "name": "python",
   "nbconvert_exporter": "python",
   "pygments_lexer": "ipython3",
   "version": "3.10.16"
  }
 },
 "nbformat": 4,
 "nbformat_minor": 5
}
